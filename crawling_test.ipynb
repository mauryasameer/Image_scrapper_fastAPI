{
 "cells": [
  {
   "cell_type": "code",
   "execution_count": 129,
   "metadata": {},
   "outputs": [],
   "source": [
    "import os\n",
    "import time\n",
    "from selenium import webdriver\n",
    "import requests"
   ]
  },
  {
   "cell_type": "code",
   "execution_count": 92,
   "metadata": {},
   "outputs": [],
   "source": [
    "DRIVER_PATH = './chrome/chromedriver.exe'"
   ]
  },
  {
   "cell_type": "code",
   "execution_count": 135,
   "metadata": {},
   "outputs": [],
   "source": [
    "search_term = 'car'"
   ]
  },
  {
   "cell_type": "code",
   "execution_count": 8,
   "metadata": {},
   "outputs": [
    {
     "data": {
      "text/plain": [
       "'https://in.pinterest.com/search/pins/?q=car'"
      ]
     },
     "execution_count": 8,
     "metadata": {},
     "output_type": "execute_result"
    }
   ],
   "source": [
    "link+search_term"
   ]
  },
  {
   "cell_type": "code",
   "execution_count": 136,
   "metadata": {},
   "outputs": [
    {
     "data": {
      "text/plain": [
       "'https://in.pinterest.com/search/pins/?q=car'"
      ]
     },
     "execution_count": 136,
     "metadata": {},
     "output_type": "execute_result"
    }
   ],
   "source": [
    "link.format(ss=search_term)"
   ]
  },
  {
   "cell_type": "code",
   "execution_count": 137,
   "metadata": {},
   "outputs": [],
   "source": [
    "def fetch_image_urls(query: str, max_links_to_fetch: int, wd: webdriver, sleep_between_interactions: int = 1):\n",
    "    def scroll_to_end(wd):\n",
    "        wd.execute_script(\"window.scrollTo(0, document.body.scrollHeight);\")\n",
    "        time.sleep(sleep_between_interactions)\n",
    "\n",
    "        # build the google query\n",
    "\n",
    "    search_url = \"https://www.google.com/search?safe=off&site=&tbm=isch&source=hp&q={q}&oq={q}&gs_l=img\"\n",
    "\n",
    "    # load the page\n",
    "    wd.get(search_url.format(q=query))\n",
    "\n",
    "    image_urls = set()\n",
    "    image_count = 0\n",
    "    results_start = 0\n",
    "    while image_count < max_links_to_fetch:\n",
    "        scroll_to_end(wd)\n",
    "\n",
    "        # get all image thumbnail results\n",
    "        thumbnail_results = wd.find_elements_by_css_selector(\"img.Q4LuWd\")\n",
    "        number_results = len(thumbnail_results)\n",
    "\n",
    "        print(f\"Found: {number_results} search results. Extracting links from {results_start}:{number_results}\")\n",
    "\n",
    "        for img in thumbnail_results[results_start:number_results]:\n",
    "            # try to click every thumbnail such that we can get the real image behind it\n",
    "            try:\n",
    "                img.click()\n",
    "                time.sleep(sleep_between_interactions)\n",
    "            except Exception:\n",
    "                continue\n",
    "\n",
    "            # extract image urls\n",
    "            actual_images = wd.find_elements_by_css_selector('img.n3VNCb')\n",
    "            for actual_image in actual_images:\n",
    "                if actual_image.get_attribute('src') and 'http' in actual_image.get_attribute('src'):\n",
    "                    image_urls.add(actual_image.get_attribute('src'))\n",
    "\n",
    "            image_count = len(image_urls)\n",
    "\n",
    "            if len(image_urls) >= max_links_to_fetch:\n",
    "                print(f\"Found: {len(image_urls)} image links, done!\")\n",
    "                break\n",
    "        else:\n",
    "            print(\"Found:\", len(image_urls), \"image links, looking for more ...\")\n",
    "            time.sleep(30)\n",
    "            return\n",
    "            load_more_button = wd.find_element_by_css_selector(\".mye4qd\")\n",
    "            if load_more_button:\n",
    "                wd.execute_script(\"document.querySelector('.mye4qd').click();\")\n",
    "\n",
    "        # move the result startpoint further down\n",
    "        results_start = len(thumbnail_results)\n",
    "\n",
    "    return image_urls"
   ]
  },
  {
   "cell_type": "code",
   "execution_count": 138,
   "metadata": {},
   "outputs": [],
   "source": [
    "def persist_image(folder_path:str,url:str, counter):\n",
    "    try:\n",
    "        image_content = requests.get(url).content\n",
    "\n",
    "    except Exception as e:\n",
    "        print(f\"ERROR - Could not download {url} - {e}\")\n",
    "\n",
    "    try:\n",
    "        f = open(os.path.join(folder_path, 'jpg' + \"_\" + str(counter) + \".jpg\"), 'wb')\n",
    "        f.write(image_content)\n",
    "        f.close()\n",
    "        print(f\"SUCCESS - saved {url} - as {folder_path}\")\n",
    "    except Exception as e:\n",
    "        print(f\"ERROR - Could not save {url} - {e}\")"
   ]
  },
  {
   "cell_type": "code",
   "execution_count": 143,
   "metadata": {},
   "outputs": [],
   "source": [
    "def search_and_download(search_term: str, driver_path: str, target_path='./images', number_images=10):\n",
    "    '''\n",
    "    @input:\n",
    "        search_term: items to be searched(str)\n",
    "        driver_path: location of the chrome driver(str)\n",
    "        target_path: path of the images to be saved(str)\n",
    "        number_images: int\n",
    "    '''\n",
    "    target_folder = os.path.join(target_path, '_'.join(search_term.lower().split(' '))) # make the folder name inside images with the search string\n",
    "\n",
    "    if not os.path.exists(target_folder):\n",
    "        os.makedirs(target_folder) # make directory using the target path if it doesn't exist already\n",
    "\n",
    "    wd=webdriver.Chrome(executable_path=driver_path)\n",
    "    res = fetch_image_urls(search_term, number_images, wd=wd, sleep_between_interactions=0.5)\n",
    "\n",
    "    counter = 0\n",
    "    for elem in res:\n",
    "        persist_image(target_folder, elem, counter)\n",
    "        counter += 1"
   ]
  },
  {
   "cell_type": "code",
   "execution_count": 140,
   "metadata": {},
   "outputs": [
    {
     "data": {
      "text/plain": [
       "'./chrome/chromedriver.exe'"
      ]
     },
     "execution_count": 140,
     "metadata": {},
     "output_type": "execute_result"
    }
   ],
   "source": [
    "DRIVER_PATH"
   ]
  },
  {
   "cell_type": "code",
   "execution_count": 145,
   "metadata": {},
   "outputs": [
    {
     "name": "stdout",
     "output_type": "stream",
     "text": [
      "Found: 100 search results. Extracting links from 0:100\n",
      "Found: 100 image links, done!\n",
      "SUCCESS - saved https://www.bajajfinserv.in/Best_5000mAh_Battery_Mobile_Phones_in_2020_Banner_Best_phone_with_5000mAh_Battery__790x345.jpg - as temp_images\\mobile\n",
      "SUCCESS - saved https://encrypted-tbn0.gstatic.com/images?q=tbn%3AANd9GcQEmlmf5j4NWpIIGuwc43D4hYZ2t9XjBXPErA&usqp=CAU - as temp_images\\mobile\n",
      "SUCCESS - saved https://encrypted-tbn0.gstatic.com/images?q=tbn%3AANd9GcRpBeQ_otGEe42Zs8pJwUuBozHGoT5yY7lHzw&usqp=CAU - as temp_images\\mobile\n",
      "SUCCESS - saved https://encrypted-tbn0.gstatic.com/images?q=tbn%3AANd9GcSLdMtEKUbgh-5tLTomp4LZUxPXeeBRfqOetg&usqp=CAU - as temp_images\\mobile\n",
      "SUCCESS - saved https://encrypted-tbn0.gstatic.com/images?q=tbn%3AANd9GcRBO8FYhhJCyp2bv66L4wmPGz2ppODQKAJ-DA&usqp=CAU - as temp_images\\mobile\n",
      "SUCCESS - saved https://encrypted-tbn0.gstatic.com/images?q=tbn%3AANd9GcTZ6sQuEK5y4ZFmBL7DNsKFlQFuFLiyNDlwZA&usqp=CAU - as temp_images\\mobile\n",
      "SUCCESS - saved https://m.media-amazon.com/images/I/51HZ1FRUZ6L._SR500,500_.jpg - as temp_images\\mobile\n",
      "SUCCESS - saved https://www.91-img.com/pictures/134177-v9-xiaomi-redmi-k20-mobile-phone-large-1.jpg?tr=q-60 - as temp_images\\mobile\n",
      "SUCCESS - saved https://assetscdn1.paytm.com/images/catalog/product/M/MO/MOBOPPO-A12-3-GFUTU629745E657DA2D/1591384302184_0..png - as temp_images\\mobile\n",
      "SUCCESS - saved https://i2.wp.com/cdn.samsung.com/etc/designs/smg/global/imgs/Social_Image_Samsung_Mobile_PFS.jpg?ssl=1 - as temp_images\\mobile\n",
      "SUCCESS - saved https://encrypted-tbn0.gstatic.com/images?q=tbn%3AANd9GcQd0WLPwgqydVpuSqwsEcACTDZwqWHjd81PUA&usqp=CAU - as temp_images\\mobile\n",
      "SUCCESS - saved https://cdn.dnaindia.com/sites/default/files/styles/half/public/2020/06/10/908992-google-pixel-download.jpg - as temp_images\\mobile\n",
      "SUCCESS - saved https://encrypted-tbn0.gstatic.com/images?q=tbn%3AANd9GcQzkDkCrpFQAzwVX2wR_mODLtl3oo5HxOPHBQ&usqp=CAU - as temp_images\\mobile\n",
      "SUCCESS - saved https://new-img.patrika.com/upload/2018/08/06/fliptrends_smartphonesbanner2_3214312_835x547-m.jpg - as temp_images\\mobile\n",
      "SUCCESS - saved https://encrypted-tbn0.gstatic.com/images?q=tbn%3AANd9GcQJ1RmzgRSiBK5Zv2ggSCy3gj-xGA3dZs_e0w&usqp=CAU - as temp_images\\mobile\n",
      "SUCCESS - saved https://www.micromaxinfo.com/images/fphones.png - as temp_images\\mobile\n",
      "SUCCESS - saved https://encrypted-tbn0.gstatic.com/images?q=tbn%3AANd9GcTOQWwSUppJgRLrZKBRrY12cCZPHnVGHqZbcg&usqp=CAU - as temp_images\\mobile\n",
      "SUCCESS - saved https://www.britco.co.in/site/images/mobile_03.png - as temp_images\\mobile\n",
      "SUCCESS - saved https://encrypted-tbn0.gstatic.com/images?q=tbn%3AANd9GcQQG-wgJ4SeEPwtzdg-YeoUarnfsTjVvHhVBg&usqp=CAU - as temp_images\\mobile\n",
      "SUCCESS - saved https://icdn2.digitaltrends.com/image/digitaltrends/iphone-11-pro-review-2-416x416.jpg - as temp_images\\mobile\n",
      "SUCCESS - saved https://static.digit.in/product/c6d844e011d877419427499bb3c6f7714581f46b.jpeg?tr=w-1200 - as temp_images\\mobile\n",
      "SUCCESS - saved https://www.thenational.ae/image/policy:1.872748:1586871677/GettyImages-953778398.jpg?f=16x9&w=1200&$p$f$w=2121545 - as temp_images\\mobile\n",
      "SUCCESS - saved https://i.gadgets360cdn.com/large/Realme_3i_cover_ndtv_1563458539417.jpg?downsize=910:*&output-quality=80 - as temp_images\\mobile\n",
      "SUCCESS - saved https://encrypted-tbn0.gstatic.com/images?q=tbn%3AANd9GcQZlu99v76I5u1Weu6iL6sAljm55brvyHfRsQ&usqp=CAU - as temp_images\\mobile\n",
      "SUCCESS - saved https://encrypted-tbn0.gstatic.com/images?q=tbn%3AANd9GcSxT7BF_RSFPbn4Z8yopWA9Xlfmq7THe6sb1g&usqp=CAU - as temp_images\\mobile\n",
      "SUCCESS - saved https://m.economictimes.com/thumb/msid-70533809,width-1200,height-900,resizemode-4,imgsize-268807/istock-131404860final.jpg - as temp_images\\mobile\n",
      "SUCCESS - saved https://encrypted-tbn0.gstatic.com/images?q=tbn%3AANd9GcScjadEdpYsXfBqUMV2XI2SMRG3Qbx6bvWmUg&usqp=CAU - as temp_images\\mobile\n",
      "SUCCESS - saved https://www.lg.com/in/images/mobile-phones/md06218996/gallery/1100x730_12122019_v.jpg - as temp_images\\mobile\n",
      "SUCCESS - saved https://i.gadgets360cdn.com/large/poco_x2_Front_ndtv_1580825988736.jpg?downsize=910:*&output-quality=80 - as temp_images\\mobile\n",
      "SUCCESS - saved https://www.businessinsider.in/photo/70101248/ways-to-increase-mobile-phone-speed.jpg?imgsize=87580 - as temp_images\\mobile\n",
      "SUCCESS - saved https://img.republicworld.com/republic-prod/stories/promolarge/xxhdpi/geapbxxo9gmbvmcc_1592833153.jpeg?tr=w-812,h-464 - as temp_images\\mobile\n",
      "SUCCESS - saved https://encrypted-tbn0.gstatic.com/images?q=tbn%3AANd9GcRaWdSjUEA1sLymW2tyWaqBsxufQc4mrEqD0A&usqp=CAU - as temp_images\\mobile\n",
      "SUCCESS - saved https://encrypted-tbn0.gstatic.com/images?q=tbn%3AANd9GcQrnRQOdUtUHoAubqa93-sK6CtAkmzmH0z2cQ&usqp=CAU - as temp_images\\mobile\n",
      "SUCCESS - saved https://encrypted-tbn0.gstatic.com/images?q=tbn%3AANd9GcTWDlSxeNlPbmiLBa_koC6mR-WBuyyQwFahDw&usqp=CAU - as temp_images\\mobile\n",
      "SUCCESS - saved https://encrypted-tbn0.gstatic.com/images?q=tbn%3AANd9GcQ22LIleWZEIZMrww-J3DV-x7k-VEeH-CwB6w&usqp=CAU - as temp_images\\mobile\n",
      "SUCCESS - saved https://www.bajajfinserv.in/5_Best_Redmi_Phones_Under_Rs15000_img1_redmi-cluster790x345-min.jpg - as temp_images\\mobile\n",
      "SUCCESS - saved https://www.lg.com/in/images/mobile-phones/md06155757/gallery/Platinum_07-1100-V3.jpg - as temp_images\\mobile\n",
      "SUCCESS - saved https://encrypted-tbn0.gstatic.com/images?q=tbn%3AANd9GcQwYNLRJHnP4Y7cG9gOXbEYKkLtfVDuVzh8Yg&usqp=CAU - as temp_images\\mobile\n",
      "SUCCESS - saved https://encrypted-tbn0.gstatic.com/images?q=tbn%3AANd9GcT5o3u5Su2qj6jhlxOCXHH8bkqo2pctgR0mwQ&usqp=CAU - as temp_images\\mobile\n",
      "SUCCESS - saved https://www.91-img.com/pictures/135602-v9-oppo-reno-2-mobile-phone-large-1.jpg?tr=h-330,c-at_max,q-60 - as temp_images\\mobile\n",
      "SUCCESS - saved https://encrypted-tbn0.gstatic.com/images?q=tbn%3AANd9GcTKL4LSGyEedeG7VoHk9aJplayxcPBl_XlUJQ&usqp=CAU - as temp_images\\mobile\n",
      "SUCCESS - saved https://n4.sdlcdn.com/imgs/f/n/r/Gionee-A1-64GB-Black-SDL352791824-1-ff379.jpeg - as temp_images\\mobile\n",
      "SUCCESS - saved https://encrypted-tbn0.gstatic.com/images?q=tbn%3AANd9GcT6OFyJjXYteHTXPVkBcuWczsQNSmeniK_0TQ&usqp=CAU - as temp_images\\mobile\n",
      "SUCCESS - saved https://images.samsung.com/is/image/samsung/assets/in/p6_gro1/p6_initial_home/in_kv_mo_galaxy-20_center_720x1080.jpg?$ORIGIN_JPG$ - as temp_images\\mobile\n",
      "SUCCESS - saved https://cdn.mos.cms.futurecdn.net/99B93aZbmkyWD6x52TXStd.jpg - as temp_images\\mobile\n",
      "SUCCESS - saved https://english.mathrubhumi.com/polopoly_fs/1.2378895.1592730301!/image/image.jpg_gen/derivatives/landscape_894_577/image.jpg - as temp_images\\mobile\n",
      "SUCCESS - saved https://images.news18.com/ibnlive/uploads/2019/06/pubg-mobile-gun.jpg - as temp_images\\mobile\n",
      "SUCCESS - saved https://cdn.vox-cdn.com/thumbor/JhagtvfL2Yshqmme41L1SGeqFeY=/0x0:3885x2590/1200x800/filters:focal(1633x985:2253x1605)/cdn.vox-cdn.com/uploads/chorus_image/image/66482447/yahoo_mobile.0.jpg - as temp_images\\mobile\n",
      "SUCCESS - saved https://assetscdn1.paytm.com/images/catalog/product/M/MO/MOBOPPO-A52-6-GFUTU6297453D3D253C/1592019058170_0..png - as temp_images\\mobile\n",
      "SUCCESS - saved https://images.ctfassets.net/wcfotm6rrl7u/2Q7BnbvNCo2m4BCrgboczN/e7fb7cf228712c0bc75a77499eaef522/pds-lander-hero-8_2--mobile.png - as temp_images\\mobile\n",
      "SUCCESS - saved https://encrypted-tbn0.gstatic.com/images?q=tbn%3AANd9GcQwTEx0Q35RcA8A6R-GfHBlqIeyUVvBC8Zv7w&usqp=CAU - as temp_images\\mobile\n",
      "SUCCESS - saved https://encrypted-tbn0.gstatic.com/images?q=tbn%3AANd9GcQ1HG0tj2BdDDJq--dQDjrKsXZ-ZALCLr87IQ&usqp=CAU - as temp_images\\mobile\n",
      "SUCCESS - saved https://encrypted-tbn0.gstatic.com/images?q=tbn%3AANd9GcRNaCVIBiSGh2nCmaQDcmlZIccgF3728rH2Vg&usqp=CAU - as temp_images\\mobile\n",
      "SUCCESS - saved https://images-na.ssl-images-amazon.com/images/I/61vsPLVJQeL._SX466_.jpg - as temp_images\\mobile\n",
      "SUCCESS - saved https://cdn.pocket-lint.com/r/s/1200x/assets/images/120309-phones-buyer-s-guide-best-smartphones-2020-the-top-mobile-phones-available-to-buy-today-image1-eagx1ykift.jpg - as temp_images\\mobile\n",
      "SUCCESS - saved https://assets.mspimages.in/wp-content/uploads/2019/10/Vivo-Z1x-1.jpg - as temp_images\\mobile\n",
      "SUCCESS - saved https://encrypted-tbn0.gstatic.com/images?q=tbn%3AANd9GcSwVRD8wL_srW8DWLcVp6nHUOUDbpz5sY7Umg&usqp=CAU - as temp_images\\mobile\n",
      "SUCCESS - saved https://cdn.vox-cdn.com/thumbor/2z1oRIYMP2iOqOQoiWUYgj026yw=/1400x1400/filters:format(jpeg)/cdn.vox-cdn.com/uploads/chorus_asset/file/19365328/DSCF7161.0.jpg - as temp_images\\mobile\n",
      "SUCCESS - saved https://encrypted-tbn0.gstatic.com/images?q=tbn%3AANd9GcSEhl0PRGElJ_bzpmZEr4JDFzRzI2NG1xMa9A&usqp=CAU - as temp_images\\mobile\n",
      "SUCCESS - saved https://encrypted-tbn0.gstatic.com/images?q=tbn%3AANd9GcTVGHRolXtiapL7wYKZ4jIhk2kaRUhvWfkFOA&usqp=CAU - as temp_images\\mobile\n",
      "SUCCESS - saved https://m.economictimes.com/thumb/msid-71641818,width-1200,height-900,resizemode-4,imgsize-587039/getty.jpg - as temp_images\\mobile\n",
      "SUCCESS - saved https://static.toiimg.com/photo/73078527.cms - as temp_images\\mobile\n",
      "SUCCESS - saved https://encrypted-tbn0.gstatic.com/images?q=tbn%3AANd9GcStduMiKxMNRTdxPE36OC50fAbTSq6hlNbVBQ&usqp=CAU - as temp_images\\mobile\n",
      "SUCCESS - saved https://images-na.ssl-images-amazon.com/images/I/71yXShgxvpL._SX679_.jpg - as temp_images\\mobile\n",
      "SUCCESS - saved https://images-na.ssl-images-amazon.com/images/I/71wPwmxo2NL._SL1500_.jpg - as temp_images\\mobile\n",
      "SUCCESS - saved https://www.cashify.in/static/common/jpg/home_banner.jpg - as temp_images\\mobile\n",
      "SUCCESS - saved https://encrypted-tbn0.gstatic.com/images?q=tbn%3AANd9GcRAQJ6xBHIA9e3Pf3QMok5yTZn3XF2Z3KcZ3w&usqp=CAU - as temp_images\\mobile\n",
      "SUCCESS - saved https://encrypted-tbn0.gstatic.com/images?q=tbn%3AANd9GcT8oLudS5_3cc3PGR0UXmS1s-zm6nmcUyznxw&usqp=CAU - as temp_images\\mobile\n",
      "SUCCESS - saved https://static.digit.in/product/157618fcc435bae8f78d755091f201740ae1b6bd.jpeg?tr=w-1200 - as temp_images\\mobile\n",
      "SUCCESS - saved https://encrypted-tbn0.gstatic.com/images?q=tbn%3AANd9GcR6FgP__YgqkKtu_2zN_YJRx6bvKDFVouFnzw&usqp=CAU - as temp_images\\mobile\n",
      "SUCCESS - saved https://image.oppo.com/content/dam/oppo/en/mkt/product-list/product-list-item/A5%202020%20300x300-2x.png - as temp_images\\mobile\n",
      "SUCCESS - saved https://encrypted-tbn0.gstatic.com/images?q=tbn%3AANd9GcTKl8BRKYpRmhc59fD7UtJYljZUKz6P5ad_ew&usqp=CAU - as temp_images\\mobile\n",
      "SUCCESS - saved https://images.ctfassets.net/d6skzop43my5/6OyxwWln6Ke5UuX8hHLzZZ/5ae77b5f60dada8a8be63a0102ac7e45/nokia_5_3-front-cyan.png?q=50 - as temp_images\\mobile\n",
      "SUCCESS - saved https://encrypted-tbn0.gstatic.com/images?q=tbn%3AANd9GcSmwRS4ameJC0-lQPOCaKPjsmcviEVkb3P2mA&usqp=CAU - as temp_images\\mobile\n",
      "SUCCESS - saved https://encrypted-tbn0.gstatic.com/images?q=tbn%3AANd9GcQ143aBeb-VR6XC2gOejhh9fKiNC4rDB5-SkA&usqp=CAU - as temp_images\\mobile\n",
      "SUCCESS - saved https://i.gadgets360cdn.com/products/large/oppo-k3-380x800-1563541642.jpg - as temp_images\\mobile\n",
      "SUCCESS - saved https://static.digit.in/product/97036a3ef3b60f99a34cf0e16fb867896146a6e2.jpeg?tr=w-1200 - as temp_images\\mobile\n",
      "SUCCESS - saved https://encrypted-tbn0.gstatic.com/images?q=tbn%3AANd9GcT248cWEHmj1VBj_BL80zXuhj94VJJnSeW0kw&usqp=CAU - as temp_images\\mobile\n",
      "SUCCESS - saved https://static.toiimg.com/photo/65575325.cms - as temp_images\\mobile\n",
      "SUCCESS - saved https://encrypted-tbn0.gstatic.com/images?q=tbn%3AANd9GcQZFdoC4bjf4sCWaaD0u53Mlthm_uUZRx9Uaw&usqp=CAU - as temp_images\\mobile\n",
      "SUCCESS - saved https://encrypted-tbn0.gstatic.com/images?q=tbn%3AANd9GcQ2W7W8ZwCTkcKwCDpwzZpYD2T_T2P-pcPTLg&usqp=CAU - as temp_images\\mobile\n",
      "SUCCESS - saved https://4.imimg.com/data4/BB/RH/MY-15241145/multimedia-mobile-phone-500x500.jpg - as temp_images\\mobile\n",
      "SUCCESS - saved https://img.etimg.com/thumb/msid-75494956,width-1070,height-580,imgsize-10635,overlay-economictimes/photo.jpg - as temp_images\\mobile\n",
      "SUCCESS - saved https://encrypted-tbn0.gstatic.com/images?q=tbn%3AANd9GcQm72CwGOz_A40U9sJmveO_JpBZ1hqXtTFliw&usqp=CAU - as temp_images\\mobile\n",
      "SUCCESS - saved https://cdn.mos.cms.futurecdn.net/jWoHQU4jfdaojkqv6ELpTc.jpg - as temp_images\\mobile\n",
      "SUCCESS - saved https://encrypted-tbn0.gstatic.com/images?q=tbn%3AANd9GcTlEJlngGYKh9p83wzEXUGwREk7VnFDxzoiPQ&usqp=CAU - as temp_images\\mobile\n",
      "SUCCESS - saved https://encrypted-tbn0.gstatic.com/images?q=tbn%3AANd9GcTXclslDUUZwEwehFkTSO6ctUeU_deyfbwyPw&usqp=CAU - as temp_images\\mobile\n",
      "SUCCESS - saved https://imgk.timesnownews.com/story/redmi-note-8-pro_1.jpg?tr=w-400,h-300,fo-auto - as temp_images\\mobile\n",
      "SUCCESS - saved https://encrypted-tbn0.gstatic.com/images?q=tbn%3AANd9GcS7UtXk8Y3Oc5QRlE_3a6boep0wYb18xtu1yA&usqp=CAU - as temp_images\\mobile\n",
      "SUCCESS - saved https://encrypted-tbn0.gstatic.com/images?q=tbn%3AANd9GcTUg_OIIPgmHu66M-_BYiROjDNzrPkmaoFGkw&usqp=CAU - as temp_images\\mobile\n",
      "SUCCESS - saved https://static.toiimg.com/photo/71179869.cms - as temp_images\\mobile\n",
      "SUCCESS - saved https://akm-img-a-in.tosshub.com/sites/btmt/images/stories/phones_660_250420032257.jpg - as temp_images\\mobile\n",
      "SUCCESS - saved https://encrypted-tbn0.gstatic.com/images?q=tbn%3AANd9GcSitHoaNZn6TeTu7uasgR4VXPgAx9YeaGvxNw&usqp=CAU - as temp_images\\mobile\n",
      "SUCCESS - saved https://encrypted-tbn0.gstatic.com/images?q=tbn%3AANd9GcThkPhwDu_1H2p35Ue9Js_7uhJ2iMhfDNC6rQ&usqp=CAU - as temp_images\\mobile\n",
      "SUCCESS - saved https://encrypted-tbn0.gstatic.com/images?q=tbn%3AANd9GcT9O9cDFlL8p8Ig8fDS3wskUk6ASsX-gDJ_Gg&usqp=CAU - as temp_images\\mobile\n",
      "SUCCESS - saved https://www.91-img.com/pictures/133188-v4-oppo-f11-mobile-phone-large-1.jpg - as temp_images\\mobile\n",
      "SUCCESS - saved https://st1.bgr.in/wp-content/uploads/2019/08/realme-5-review-front-waterdrop-notch.jpg - as temp_images\\mobile\n",
      "SUCCESS - saved https://encrypted-tbn0.gstatic.com/images?q=tbn%3AANd9GcSPrOYX6yC7gvIO26EPyRfLW6g4hOTODelCzA&usqp=CAU - as temp_images\\mobile\n",
      "SUCCESS - saved https://i.gadgets360cdn.com/products/large/oneplus-7t-pro-386x800-1570722452.jpg - as temp_images\\mobile\n",
      "SUCCESS - saved https://encrypted-tbn0.gstatic.com/images?q=tbn%3AANd9GcSPVtn8ns3_93RaQEjP4MAj_uvLjWL1bOVuGw&usqp=CAU - as temp_images\\mobile\n"
     ]
    }
   ],
   "source": [
    "search_and_download('mobile',DRIVER_PATH,'temp_images',100)"
   ]
  },
  {
   "cell_type": "code",
   "execution_count": 102,
   "metadata": {},
   "outputs": [],
   "source": [
    "wd=webdriver.Chrome(executable_path=DRIVER_PATH)"
   ]
  },
  {
   "cell_type": "code",
   "execution_count": 103,
   "metadata": {},
   "outputs": [],
   "source": [
    "wd.get(link+search_term)"
   ]
  },
  {
   "cell_type": "code",
   "execution_count": 124,
   "metadata": {},
   "outputs": [],
   "source": [
    "x=wd.find_element_by_class_name('Grid__Container')"
   ]
  },
  {
   "cell_type": "code",
   "execution_count": 126,
   "metadata": {},
   "outputs": [],
   "source": [
    "# x.text"
   ]
  },
  {
   "cell_type": "code",
   "execution_count": 128,
   "metadata": {},
   "outputs": [],
   "source": [
    "# wd.find_element_by_tag_name('div').div"
   ]
  },
  {
   "cell_type": "code",
   "execution_count": null,
   "metadata": {},
   "outputs": [],
   "source": [
    "webdriver.Web"
   ]
  },
  {
   "cell_type": "code",
   "execution_count": 113,
   "metadata": {},
   "outputs": [],
   "source": [
    "pg=wd.page_source"
   ]
  },
  {
   "cell_type": "code",
   "execution_count": 127,
   "metadata": {},
   "outputs": [],
   "source": [
    "# wd.find_element_by_xpath(\"//*[@id='__PWS_ROOT__']/div\").text"
   ]
  }
 ],
 "metadata": {
  "kernelspec": {
   "display_name": "Python 3",
   "language": "python",
   "name": "python3"
  },
  "language_info": {
   "codemirror_mode": {
    "name": "ipython",
    "version": 3
   },
   "file_extension": ".py",
   "mimetype": "text/x-python",
   "name": "python",
   "nbconvert_exporter": "python",
   "pygments_lexer": "ipython3",
   "version": "3.7.1"
  }
 },
 "nbformat": 4,
 "nbformat_minor": 2
}
